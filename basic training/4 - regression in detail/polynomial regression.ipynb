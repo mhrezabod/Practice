{
 "cells": [
  {
   "cell_type": "code",
   "execution_count": null,
   "metadata": {},
   "outputs": [],
   "source": []
  }
 ],
 "metadata": {
  "kernelspec": {
   "display_name": "Python 3.10.4 ('env': venv)",
   "language": "python",
   "name": "python3"
  },
  "language_info": {
   "name": "python",
   "version": "3.10.4"
  },
  "orig_nbformat": 4,
  "vscode": {
   "interpreter": {
    "hash": "669f0d4bb70db36c95380f7e69d560f27f7648e8ef54a2b896ad34b03f1eb72f"
   }
  }
 },
 "nbformat": 4,
 "nbformat_minor": 2
}
