{
 "cells": [
  {
   "cell_type": "code",
   "execution_count": 86,
   "id": "32bc627f-ac28-4f02-8616-73665c62458a",
   "metadata": {
    "execution": {
     "iopub.execute_input": "2022-06-30T13:27:17.903147Z",
     "iopub.status.busy": "2022-06-30T13:27:17.902244Z",
     "iopub.status.idle": "2022-06-30T13:27:17.908013Z",
     "shell.execute_reply": "2022-06-30T13:27:17.906822Z",
     "shell.execute_reply.started": "2022-06-30T13:27:17.903104Z"
    },
    "tags": []
   },
   "outputs": [],
   "source": [
    "import pandas as pd\n",
    "from sklearn.model_selection import train_test_split\n",
    "from sklearn.preprocessing import "
   ]
  },
  {
   "cell_type": "code",
   "execution_count": 87,
   "id": "811eb614-6538-41bf-98a5-a410b3fc1cc4",
   "metadata": {
    "execution": {
     "iopub.execute_input": "2022-06-30T13:27:18.330907Z",
     "iopub.status.busy": "2022-06-30T13:27:18.327879Z",
     "iopub.status.idle": "2022-06-30T13:27:18.494231Z",
     "shell.execute_reply": "2022-06-30T13:27:18.493544Z",
     "shell.execute_reply.started": "2022-06-30T13:27:18.330730Z"
    },
    "tags": []
   },
   "outputs": [],
   "source": [
    "df = pd.read_csv(\"non_name_data.csv\")"
   ]
  },
  {
   "cell_type": "code",
   "execution_count": 88,
   "id": "bf6c683e-bc74-4916-8c54-a6976ff40dd5",
   "metadata": {
    "execution": {
     "iopub.execute_input": "2022-06-30T13:27:18.545735Z",
     "iopub.status.busy": "2022-06-30T13:27:18.545361Z",
     "iopub.status.idle": "2022-06-30T13:27:18.588782Z",
     "shell.execute_reply": "2022-06-30T13:27:18.587810Z",
     "shell.execute_reply.started": "2022-06-30T13:27:18.545708Z"
    },
    "tags": []
   },
   "outputs": [
    {
     "data": {
      "text/html": [
       "<div>\n",
       "<style scoped>\n",
       "    .dataframe tbody tr th:only-of-type {\n",
       "        vertical-align: middle;\n",
       "    }\n",
       "\n",
       "    .dataframe tbody tr th {\n",
       "        vertical-align: top;\n",
       "    }\n",
       "\n",
       "    .dataframe thead th {\n",
       "        text-align: right;\n",
       "    }\n",
       "</style>\n",
       "<table border=\"1\" class=\"dataframe\">\n",
       "  <thead>\n",
       "    <tr style=\"text-align: right;\">\n",
       "      <th></th>\n",
       "      <th>clmn1</th>\n",
       "      <th>clmn2</th>\n",
       "      <th>clmn3</th>\n",
       "      <th>clmn4</th>\n",
       "      <th>clmn5</th>\n",
       "      <th>clmn6</th>\n",
       "      <th>clmn7</th>\n",
       "      <th>clmn8</th>\n",
       "      <th>clmn9</th>\n",
       "      <th>clmn10</th>\n",
       "      <th>...</th>\n",
       "      <th>clmn17</th>\n",
       "      <th>clmn18</th>\n",
       "      <th>clmn19</th>\n",
       "      <th>clmn20</th>\n",
       "      <th>clmn21</th>\n",
       "      <th>clmn22</th>\n",
       "      <th>clmn23</th>\n",
       "      <th>clmn24</th>\n",
       "      <th>lbl</th>\n",
       "      <th>Out_num</th>\n",
       "    </tr>\n",
       "  </thead>\n",
       "  <tbody>\n",
       "    <tr>\n",
       "      <th>0</th>\n",
       "      <td>13</td>\n",
       "      <td>5</td>\n",
       "      <td>5.353466</td>\n",
       "      <td>587.5</td>\n",
       "      <td>5</td>\n",
       "      <td>3</td>\n",
       "      <td>500.0</td>\n",
       "      <td>425.0</td>\n",
       "      <td>300.0</td>\n",
       "      <td>3.0</td>\n",
       "      <td>...</td>\n",
       "      <td>0</td>\n",
       "      <td>1</td>\n",
       "      <td>0</td>\n",
       "      <td>0</td>\n",
       "      <td>0</td>\n",
       "      <td>0</td>\n",
       "      <td>1</td>\n",
       "      <td>0</td>\n",
       "      <td>True</td>\n",
       "      <td>1.945125e-04</td>\n",
       "    </tr>\n",
       "    <tr>\n",
       "      <th>1</th>\n",
       "      <td>1</td>\n",
       "      <td>5</td>\n",
       "      <td>1.885697</td>\n",
       "      <td>525.0</td>\n",
       "      <td>1</td>\n",
       "      <td>2</td>\n",
       "      <td>412.5</td>\n",
       "      <td>462.5</td>\n",
       "      <td>200.0</td>\n",
       "      <td>4.0</td>\n",
       "      <td>...</td>\n",
       "      <td>0</td>\n",
       "      <td>1</td>\n",
       "      <td>0</td>\n",
       "      <td>0</td>\n",
       "      <td>0</td>\n",
       "      <td>0</td>\n",
       "      <td>1</td>\n",
       "      <td>0</td>\n",
       "      <td>False</td>\n",
       "      <td>8.934743e-03</td>\n",
       "    </tr>\n",
       "    <tr>\n",
       "      <th>2</th>\n",
       "      <td>5</td>\n",
       "      <td>6</td>\n",
       "      <td>1.567379</td>\n",
       "      <td>500.0</td>\n",
       "      <td>2</td>\n",
       "      <td>6</td>\n",
       "      <td>487.5</td>\n",
       "      <td>337.5</td>\n",
       "      <td>200.0</td>\n",
       "      <td>2.0</td>\n",
       "      <td>...</td>\n",
       "      <td>0</td>\n",
       "      <td>0</td>\n",
       "      <td>1</td>\n",
       "      <td>0</td>\n",
       "      <td>0</td>\n",
       "      <td>1</td>\n",
       "      <td>0</td>\n",
       "      <td>0</td>\n",
       "      <td>True</td>\n",
       "      <td>6.760000e-14</td>\n",
       "    </tr>\n",
       "    <tr>\n",
       "      <th>3</th>\n",
       "      <td>6</td>\n",
       "      <td>8</td>\n",
       "      <td>0.380682</td>\n",
       "      <td>425.0</td>\n",
       "      <td>2</td>\n",
       "      <td>1</td>\n",
       "      <td>375.0</td>\n",
       "      <td>437.5</td>\n",
       "      <td>300.0</td>\n",
       "      <td>2.0</td>\n",
       "      <td>...</td>\n",
       "      <td>0</td>\n",
       "      <td>0</td>\n",
       "      <td>0</td>\n",
       "      <td>1</td>\n",
       "      <td>0</td>\n",
       "      <td>0</td>\n",
       "      <td>1</td>\n",
       "      <td>0</td>\n",
       "      <td>False</td>\n",
       "      <td>5.241387e-03</td>\n",
       "    </tr>\n",
       "    <tr>\n",
       "      <th>4</th>\n",
       "      <td>9</td>\n",
       "      <td>13</td>\n",
       "      <td>0.578078</td>\n",
       "      <td>400.0</td>\n",
       "      <td>4</td>\n",
       "      <td>3</td>\n",
       "      <td>612.5</td>\n",
       "      <td>500.0</td>\n",
       "      <td>400.0</td>\n",
       "      <td>2.0</td>\n",
       "      <td>...</td>\n",
       "      <td>0</td>\n",
       "      <td>0</td>\n",
       "      <td>0</td>\n",
       "      <td>1</td>\n",
       "      <td>0</td>\n",
       "      <td>0</td>\n",
       "      <td>1</td>\n",
       "      <td>0</td>\n",
       "      <td>True</td>\n",
       "      <td>2.252500e-09</td>\n",
       "    </tr>\n",
       "    <tr>\n",
       "      <th>...</th>\n",
       "      <td>...</td>\n",
       "      <td>...</td>\n",
       "      <td>...</td>\n",
       "      <td>...</td>\n",
       "      <td>...</td>\n",
       "      <td>...</td>\n",
       "      <td>...</td>\n",
       "      <td>...</td>\n",
       "      <td>...</td>\n",
       "      <td>...</td>\n",
       "      <td>...</td>\n",
       "      <td>...</td>\n",
       "      <td>...</td>\n",
       "      <td>...</td>\n",
       "      <td>...</td>\n",
       "      <td>...</td>\n",
       "      <td>...</td>\n",
       "      <td>...</td>\n",
       "      <td>...</td>\n",
       "      <td>...</td>\n",
       "      <td>...</td>\n",
       "    </tr>\n",
       "    <tr>\n",
       "      <th>21995</th>\n",
       "      <td>6</td>\n",
       "      <td>4</td>\n",
       "      <td>2.906392</td>\n",
       "      <td>3600.0</td>\n",
       "      <td>1</td>\n",
       "      <td>1</td>\n",
       "      <td>2350.0</td>\n",
       "      <td>1400.0</td>\n",
       "      <td>300.0</td>\n",
       "      <td>4.0</td>\n",
       "      <td>...</td>\n",
       "      <td>0</td>\n",
       "      <td>0</td>\n",
       "      <td>0</td>\n",
       "      <td>1</td>\n",
       "      <td>0</td>\n",
       "      <td>0</td>\n",
       "      <td>0</td>\n",
       "      <td>1</td>\n",
       "      <td>False</td>\n",
       "      <td>1.229091e-02</td>\n",
       "    </tr>\n",
       "    <tr>\n",
       "      <th>21996</th>\n",
       "      <td>3</td>\n",
       "      <td>11</td>\n",
       "      <td>0.789073</td>\n",
       "      <td>2900.0</td>\n",
       "      <td>6</td>\n",
       "      <td>6</td>\n",
       "      <td>2100.0</td>\n",
       "      <td>2250.0</td>\n",
       "      <td>200.0</td>\n",
       "      <td>3.0</td>\n",
       "      <td>...</td>\n",
       "      <td>0</td>\n",
       "      <td>0</td>\n",
       "      <td>1</td>\n",
       "      <td>0</td>\n",
       "      <td>1</td>\n",
       "      <td>0</td>\n",
       "      <td>0</td>\n",
       "      <td>0</td>\n",
       "      <td>False</td>\n",
       "      <td>1.572687e-03</td>\n",
       "    </tr>\n",
       "    <tr>\n",
       "      <th>21997</th>\n",
       "      <td>7</td>\n",
       "      <td>0</td>\n",
       "      <td>4.620005</td>\n",
       "      <td>1800.0</td>\n",
       "      <td>4</td>\n",
       "      <td>2</td>\n",
       "      <td>1350.0</td>\n",
       "      <td>3600.0</td>\n",
       "      <td>300.0</td>\n",
       "      <td>4.0</td>\n",
       "      <td>...</td>\n",
       "      <td>0</td>\n",
       "      <td>0</td>\n",
       "      <td>1</td>\n",
       "      <td>0</td>\n",
       "      <td>1</td>\n",
       "      <td>0</td>\n",
       "      <td>0</td>\n",
       "      <td>0</td>\n",
       "      <td>False</td>\n",
       "      <td>2.490360e-02</td>\n",
       "    </tr>\n",
       "    <tr>\n",
       "      <th>21998</th>\n",
       "      <td>1</td>\n",
       "      <td>12</td>\n",
       "      <td>5.864099</td>\n",
       "      <td>3050.0</td>\n",
       "      <td>5</td>\n",
       "      <td>2</td>\n",
       "      <td>1800.0</td>\n",
       "      <td>2850.0</td>\n",
       "      <td>200.0</td>\n",
       "      <td>4.0</td>\n",
       "      <td>...</td>\n",
       "      <td>0</td>\n",
       "      <td>0</td>\n",
       "      <td>0</td>\n",
       "      <td>1</td>\n",
       "      <td>0</td>\n",
       "      <td>0</td>\n",
       "      <td>1</td>\n",
       "      <td>0</td>\n",
       "      <td>False</td>\n",
       "      <td>2.015414e-02</td>\n",
       "    </tr>\n",
       "    <tr>\n",
       "      <th>21999</th>\n",
       "      <td>10</td>\n",
       "      <td>4</td>\n",
       "      <td>2.792408</td>\n",
       "      <td>3600.0</td>\n",
       "      <td>3</td>\n",
       "      <td>6</td>\n",
       "      <td>1950.0</td>\n",
       "      <td>3600.0</td>\n",
       "      <td>300.0</td>\n",
       "      <td>4.0</td>\n",
       "      <td>...</td>\n",
       "      <td>0</td>\n",
       "      <td>1</td>\n",
       "      <td>0</td>\n",
       "      <td>0</td>\n",
       "      <td>0</td>\n",
       "      <td>0</td>\n",
       "      <td>1</td>\n",
       "      <td>0</td>\n",
       "      <td>False</td>\n",
       "      <td>8.964177e-03</td>\n",
       "    </tr>\n",
       "  </tbody>\n",
       "</table>\n",
       "<p>22000 rows × 26 columns</p>\n",
       "</div>"
      ],
      "text/plain": [
       "       clmn1  clmn2     clmn3   clmn4  clmn5  clmn6   clmn7   clmn8  clmn9  \\\n",
       "0         13      5  5.353466   587.5      5      3   500.0   425.0  300.0   \n",
       "1          1      5  1.885697   525.0      1      2   412.5   462.5  200.0   \n",
       "2          5      6  1.567379   500.0      2      6   487.5   337.5  200.0   \n",
       "3          6      8  0.380682   425.0      2      1   375.0   437.5  300.0   \n",
       "4          9     13  0.578078   400.0      4      3   612.5   500.0  400.0   \n",
       "...      ...    ...       ...     ...    ...    ...     ...     ...    ...   \n",
       "21995      6      4  2.906392  3600.0      1      1  2350.0  1400.0  300.0   \n",
       "21996      3     11  0.789073  2900.0      6      6  2100.0  2250.0  200.0   \n",
       "21997      7      0  4.620005  1800.0      4      2  1350.0  3600.0  300.0   \n",
       "21998      1     12  5.864099  3050.0      5      2  1800.0  2850.0  200.0   \n",
       "21999     10      4  2.792408  3600.0      3      6  1950.0  3600.0  300.0   \n",
       "\n",
       "       clmn10  ...  clmn17  clmn18  clmn19  clmn20  clmn21  clmn22  clmn23  \\\n",
       "0         3.0  ...       0       1       0       0       0       0       1   \n",
       "1         4.0  ...       0       1       0       0       0       0       1   \n",
       "2         2.0  ...       0       0       1       0       0       1       0   \n",
       "3         2.0  ...       0       0       0       1       0       0       1   \n",
       "4         2.0  ...       0       0       0       1       0       0       1   \n",
       "...       ...  ...     ...     ...     ...     ...     ...     ...     ...   \n",
       "21995     4.0  ...       0       0       0       1       0       0       0   \n",
       "21996     3.0  ...       0       0       1       0       1       0       0   \n",
       "21997     4.0  ...       0       0       1       0       1       0       0   \n",
       "21998     4.0  ...       0       0       0       1       0       0       1   \n",
       "21999     4.0  ...       0       1       0       0       0       0       1   \n",
       "\n",
       "       clmn24    lbl       Out_num  \n",
       "0           0   True  1.945125e-04  \n",
       "1           0  False  8.934743e-03  \n",
       "2           0   True  6.760000e-14  \n",
       "3           0  False  5.241387e-03  \n",
       "4           0   True  2.252500e-09  \n",
       "...       ...    ...           ...  \n",
       "21995       1  False  1.229091e-02  \n",
       "21996       0  False  1.572687e-03  \n",
       "21997       0  False  2.490360e-02  \n",
       "21998       0  False  2.015414e-02  \n",
       "21999       0  False  8.964177e-03  \n",
       "\n",
       "[22000 rows x 26 columns]"
      ]
     },
     "execution_count": 88,
     "metadata": {},
     "output_type": "execute_result"
    }
   ],
   "source": [
    "df"
   ]
  },
  {
   "cell_type": "code",
   "execution_count": 89,
   "id": "b9662f1c-b291-4031-9f09-f69ced333520",
   "metadata": {
    "execution": {
     "iopub.execute_input": "2022-06-30T13:27:18.693505Z",
     "iopub.status.busy": "2022-06-30T13:27:18.693100Z",
     "iopub.status.idle": "2022-06-30T13:27:18.832385Z",
     "shell.execute_reply": "2022-06-30T13:27:18.831274Z",
     "shell.execute_reply.started": "2022-06-30T13:27:18.693475Z"
    },
    "tags": []
   },
   "outputs": [
    {
     "data": {
      "text/html": [
       "<div>\n",
       "<style scoped>\n",
       "    .dataframe tbody tr th:only-of-type {\n",
       "        vertical-align: middle;\n",
       "    }\n",
       "\n",
       "    .dataframe tbody tr th {\n",
       "        vertical-align: top;\n",
       "    }\n",
       "\n",
       "    .dataframe thead th {\n",
       "        text-align: right;\n",
       "    }\n",
       "</style>\n",
       "<table border=\"1\" class=\"dataframe\">\n",
       "  <thead>\n",
       "    <tr style=\"text-align: right;\">\n",
       "      <th></th>\n",
       "      <th>clmn1</th>\n",
       "      <th>clmn2</th>\n",
       "      <th>clmn3</th>\n",
       "      <th>clmn4</th>\n",
       "      <th>clmn5</th>\n",
       "      <th>clmn6</th>\n",
       "      <th>clmn7</th>\n",
       "      <th>clmn8</th>\n",
       "      <th>clmn9</th>\n",
       "      <th>clmn10</th>\n",
       "      <th>...</th>\n",
       "      <th>clmn16</th>\n",
       "      <th>clmn17</th>\n",
       "      <th>clmn18</th>\n",
       "      <th>clmn19</th>\n",
       "      <th>clmn20</th>\n",
       "      <th>clmn21</th>\n",
       "      <th>clmn22</th>\n",
       "      <th>clmn23</th>\n",
       "      <th>clmn24</th>\n",
       "      <th>Out_num</th>\n",
       "    </tr>\n",
       "  </thead>\n",
       "  <tbody>\n",
       "    <tr>\n",
       "      <th>count</th>\n",
       "      <td>22000.000000</td>\n",
       "      <td>22000.000000</td>\n",
       "      <td>22000.000000</td>\n",
       "      <td>22000.000000</td>\n",
       "      <td>22000.000000</td>\n",
       "      <td>22000.000000</td>\n",
       "      <td>22000.000000</td>\n",
       "      <td>22000.000000</td>\n",
       "      <td>22000.000000</td>\n",
       "      <td>22000.000000</td>\n",
       "      <td>...</td>\n",
       "      <td>22000.000000</td>\n",
       "      <td>22000.000000</td>\n",
       "      <td>22000.000000</td>\n",
       "      <td>22000.000000</td>\n",
       "      <td>22000.000000</td>\n",
       "      <td>22000.000000</td>\n",
       "      <td>22000.000000</td>\n",
       "      <td>22000.000000</td>\n",
       "      <td>22000.000000</td>\n",
       "      <td>2.200000e+04</td>\n",
       "    </tr>\n",
       "    <tr>\n",
       "      <th>mean</th>\n",
       "      <td>6.448545</td>\n",
       "      <td>6.539864</td>\n",
       "      <td>3.019639</td>\n",
       "      <td>1666.331250</td>\n",
       "      <td>3.216500</td>\n",
       "      <td>3.205045</td>\n",
       "      <td>1663.620455</td>\n",
       "      <td>1664.380682</td>\n",
       "      <td>268.913636</td>\n",
       "      <td>3.024636</td>\n",
       "      <td>...</td>\n",
       "      <td>0.386909</td>\n",
       "      <td>0.252091</td>\n",
       "      <td>0.250545</td>\n",
       "      <td>0.249318</td>\n",
       "      <td>0.248045</td>\n",
       "      <td>0.248045</td>\n",
       "      <td>0.249500</td>\n",
       "      <td>0.250364</td>\n",
       "      <td>0.252091</td>\n",
       "      <td>1.122348e-02</td>\n",
       "    </tr>\n",
       "    <tr>\n",
       "      <th>std</th>\n",
       "      <td>4.035536</td>\n",
       "      <td>4.045342</td>\n",
       "      <td>2.037080</td>\n",
       "      <td>1233.595952</td>\n",
       "      <td>2.194338</td>\n",
       "      <td>2.181459</td>\n",
       "      <td>1233.288373</td>\n",
       "      <td>1233.666101</td>\n",
       "      <td>76.126638</td>\n",
       "      <td>1.044765</td>\n",
       "      <td>...</td>\n",
       "      <td>0.487054</td>\n",
       "      <td>0.434223</td>\n",
       "      <td>0.433337</td>\n",
       "      <td>0.432628</td>\n",
       "      <td>0.431888</td>\n",
       "      <td>0.431888</td>\n",
       "      <td>0.432733</td>\n",
       "      <td>0.433232</td>\n",
       "      <td>0.434223</td>\n",
       "      <td>1.681225e-02</td>\n",
       "    </tr>\n",
       "    <tr>\n",
       "      <th>min</th>\n",
       "      <td>0.000000</td>\n",
       "      <td>0.000000</td>\n",
       "      <td>0.002516</td>\n",
       "      <td>312.500000</td>\n",
       "      <td>1.000000</td>\n",
       "      <td>1.000000</td>\n",
       "      <td>312.500000</td>\n",
       "      <td>312.500000</td>\n",
       "      <td>100.000000</td>\n",
       "      <td>1.000000</td>\n",
       "      <td>...</td>\n",
       "      <td>0.000000</td>\n",
       "      <td>0.000000</td>\n",
       "      <td>0.000000</td>\n",
       "      <td>0.000000</td>\n",
       "      <td>0.000000</td>\n",
       "      <td>0.000000</td>\n",
       "      <td>0.000000</td>\n",
       "      <td>0.000000</td>\n",
       "      <td>0.000000</td>\n",
       "      <td>3.500000e-30</td>\n",
       "    </tr>\n",
       "    <tr>\n",
       "      <th>25%</th>\n",
       "      <td>3.000000</td>\n",
       "      <td>3.000000</td>\n",
       "      <td>1.502932</td>\n",
       "      <td>487.500000</td>\n",
       "      <td>1.000000</td>\n",
       "      <td>1.000000</td>\n",
       "      <td>487.500000</td>\n",
       "      <td>487.500000</td>\n",
       "      <td>200.000000</td>\n",
       "      <td>2.000000</td>\n",
       "      <td>...</td>\n",
       "      <td>0.000000</td>\n",
       "      <td>0.000000</td>\n",
       "      <td>0.000000</td>\n",
       "      <td>0.000000</td>\n",
       "      <td>0.000000</td>\n",
       "      <td>0.000000</td>\n",
       "      <td>0.000000</td>\n",
       "      <td>0.000000</td>\n",
       "      <td>0.000000</td>\n",
       "      <td>3.603421e-05</td>\n",
       "    </tr>\n",
       "    <tr>\n",
       "      <th>50%</th>\n",
       "      <td>6.000000</td>\n",
       "      <td>7.000000</td>\n",
       "      <td>2.648882</td>\n",
       "      <td>1450.000000</td>\n",
       "      <td>3.000000</td>\n",
       "      <td>3.000000</td>\n",
       "      <td>1450.000000</td>\n",
       "      <td>1500.000000</td>\n",
       "      <td>300.000000</td>\n",
       "      <td>3.000000</td>\n",
       "      <td>...</td>\n",
       "      <td>0.000000</td>\n",
       "      <td>0.000000</td>\n",
       "      <td>0.000000</td>\n",
       "      <td>0.000000</td>\n",
       "      <td>0.000000</td>\n",
       "      <td>0.000000</td>\n",
       "      <td>0.000000</td>\n",
       "      <td>0.000000</td>\n",
       "      <td>0.000000</td>\n",
       "      <td>3.558420e-03</td>\n",
       "    </tr>\n",
       "    <tr>\n",
       "      <th>75%</th>\n",
       "      <td>10.000000</td>\n",
       "      <td>10.000000</td>\n",
       "      <td>4.111738</td>\n",
       "      <td>2900.000000</td>\n",
       "      <td>4.000000</td>\n",
       "      <td>4.000000</td>\n",
       "      <td>2900.000000</td>\n",
       "      <td>2900.000000</td>\n",
       "      <td>300.000000</td>\n",
       "      <td>4.000000</td>\n",
       "      <td>...</td>\n",
       "      <td>1.000000</td>\n",
       "      <td>1.000000</td>\n",
       "      <td>1.000000</td>\n",
       "      <td>0.000000</td>\n",
       "      <td>0.000000</td>\n",
       "      <td>0.000000</td>\n",
       "      <td>0.000000</td>\n",
       "      <td>1.000000</td>\n",
       "      <td>1.000000</td>\n",
       "      <td>1.609655e-02</td>\n",
       "    </tr>\n",
       "    <tr>\n",
       "      <th>max</th>\n",
       "      <td>13.000000</td>\n",
       "      <td>13.000000</td>\n",
       "      <td>21.589713</td>\n",
       "      <td>3750.000000</td>\n",
       "      <td>10.000000</td>\n",
       "      <td>10.000000</td>\n",
       "      <td>3750.000000</td>\n",
       "      <td>3750.000000</td>\n",
       "      <td>400.000000</td>\n",
       "      <td>5.000000</td>\n",
       "      <td>...</td>\n",
       "      <td>1.000000</td>\n",
       "      <td>1.000000</td>\n",
       "      <td>1.000000</td>\n",
       "      <td>1.000000</td>\n",
       "      <td>1.000000</td>\n",
       "      <td>1.000000</td>\n",
       "      <td>1.000000</td>\n",
       "      <td>1.000000</td>\n",
       "      <td>1.000000</td>\n",
       "      <td>1.022117e-01</td>\n",
       "    </tr>\n",
       "  </tbody>\n",
       "</table>\n",
       "<p>8 rows × 25 columns</p>\n",
       "</div>"
      ],
      "text/plain": [
       "              clmn1         clmn2         clmn3         clmn4         clmn5  \\\n",
       "count  22000.000000  22000.000000  22000.000000  22000.000000  22000.000000   \n",
       "mean       6.448545      6.539864      3.019639   1666.331250      3.216500   \n",
       "std        4.035536      4.045342      2.037080   1233.595952      2.194338   \n",
       "min        0.000000      0.000000      0.002516    312.500000      1.000000   \n",
       "25%        3.000000      3.000000      1.502932    487.500000      1.000000   \n",
       "50%        6.000000      7.000000      2.648882   1450.000000      3.000000   \n",
       "75%       10.000000     10.000000      4.111738   2900.000000      4.000000   \n",
       "max       13.000000     13.000000     21.589713   3750.000000     10.000000   \n",
       "\n",
       "              clmn6         clmn7         clmn8         clmn9        clmn10  \\\n",
       "count  22000.000000  22000.000000  22000.000000  22000.000000  22000.000000   \n",
       "mean       3.205045   1663.620455   1664.380682    268.913636      3.024636   \n",
       "std        2.181459   1233.288373   1233.666101     76.126638      1.044765   \n",
       "min        1.000000    312.500000    312.500000    100.000000      1.000000   \n",
       "25%        1.000000    487.500000    487.500000    200.000000      2.000000   \n",
       "50%        3.000000   1450.000000   1500.000000    300.000000      3.000000   \n",
       "75%        4.000000   2900.000000   2900.000000    300.000000      4.000000   \n",
       "max       10.000000   3750.000000   3750.000000    400.000000      5.000000   \n",
       "\n",
       "       ...        clmn16        clmn17        clmn18        clmn19  \\\n",
       "count  ...  22000.000000  22000.000000  22000.000000  22000.000000   \n",
       "mean   ...      0.386909      0.252091      0.250545      0.249318   \n",
       "std    ...      0.487054      0.434223      0.433337      0.432628   \n",
       "min    ...      0.000000      0.000000      0.000000      0.000000   \n",
       "25%    ...      0.000000      0.000000      0.000000      0.000000   \n",
       "50%    ...      0.000000      0.000000      0.000000      0.000000   \n",
       "75%    ...      1.000000      1.000000      1.000000      0.000000   \n",
       "max    ...      1.000000      1.000000      1.000000      1.000000   \n",
       "\n",
       "             clmn20        clmn21        clmn22        clmn23        clmn24  \\\n",
       "count  22000.000000  22000.000000  22000.000000  22000.000000  22000.000000   \n",
       "mean       0.248045      0.248045      0.249500      0.250364      0.252091   \n",
       "std        0.431888      0.431888      0.432733      0.433232      0.434223   \n",
       "min        0.000000      0.000000      0.000000      0.000000      0.000000   \n",
       "25%        0.000000      0.000000      0.000000      0.000000      0.000000   \n",
       "50%        0.000000      0.000000      0.000000      0.000000      0.000000   \n",
       "75%        0.000000      0.000000      0.000000      1.000000      1.000000   \n",
       "max        1.000000      1.000000      1.000000      1.000000      1.000000   \n",
       "\n",
       "            Out_num  \n",
       "count  2.200000e+04  \n",
       "mean   1.122348e-02  \n",
       "std    1.681225e-02  \n",
       "min    3.500000e-30  \n",
       "25%    3.603421e-05  \n",
       "50%    3.558420e-03  \n",
       "75%    1.609655e-02  \n",
       "max    1.022117e-01  \n",
       "\n",
       "[8 rows x 25 columns]"
      ]
     },
     "execution_count": 89,
     "metadata": {},
     "output_type": "execute_result"
    }
   ],
   "source": [
    "df.describe()"
   ]
  },
  {
   "cell_type": "code",
   "execution_count": 90,
   "id": "3a254c7c-6fd9-4e3f-b3a0-4a2ee7fe1544",
   "metadata": {
    "execution": {
     "iopub.execute_input": "2022-06-30T13:27:18.870610Z",
     "iopub.status.busy": "2022-06-30T13:27:18.869612Z",
     "iopub.status.idle": "2022-06-30T13:27:18.878922Z",
     "shell.execute_reply": "2022-06-30T13:27:18.877688Z",
     "shell.execute_reply.started": "2022-06-30T13:27:18.870559Z"
    },
    "tags": []
   },
   "outputs": [],
   "source": [
    "X = df.iloc[:,:-2]\n",
    "y = df.iloc[:,-2:-1]"
   ]
  },
  {
   "cell_type": "code",
   "execution_count": 91,
   "id": "75e5ee57-ab86-43df-8b12-623a650bb1bf",
   "metadata": {
    "execution": {
     "iopub.execute_input": "2022-06-30T13:27:19.020654Z",
     "iopub.status.busy": "2022-06-30T13:27:19.019760Z",
     "iopub.status.idle": "2022-06-30T13:27:19.035308Z",
     "shell.execute_reply": "2022-06-30T13:27:19.034025Z",
     "shell.execute_reply.started": "2022-06-30T13:27:19.020610Z"
    },
    "tags": []
   },
   "outputs": [],
   "source": [
    "X_train, X_test, y_train, y_test = train_test_split(X, y, test_size=0.3, random_state=42)"
   ]
  },
  {
   "cell_type": "code",
   "execution_count": 92,
   "id": "5947a0f5-d56a-40ae-9dcd-cd82d8fc4a79",
   "metadata": {
    "execution": {
     "iopub.execute_input": "2022-06-30T13:27:19.172578Z",
     "iopub.status.busy": "2022-06-30T13:27:19.172132Z",
     "iopub.status.idle": "2022-06-30T13:27:19.177088Z",
     "shell.execute_reply": "2022-06-30T13:27:19.175927Z",
     "shell.execute_reply.started": "2022-06-30T13:27:19.172549Z"
    },
    "tags": []
   },
   "outputs": [],
   "source": [
    "from sklearn.linear_model import LogisticRegression"
   ]
  },
  {
   "cell_type": "code",
   "execution_count": 93,
   "id": "fcae932c-1513-4b49-b615-ad2a1a4c2242",
   "metadata": {
    "execution": {
     "iopub.execute_input": "2022-06-30T13:27:19.327209Z",
     "iopub.status.busy": "2022-06-30T13:27:19.326499Z",
     "iopub.status.idle": "2022-06-30T13:27:19.334214Z",
     "shell.execute_reply": "2022-06-30T13:27:19.332341Z",
     "shell.execute_reply.started": "2022-06-30T13:27:19.327174Z"
    },
    "tags": []
   },
   "outputs": [],
   "source": [
    "model_logestic = LogisticRegression(max_iter=100000)"
   ]
  },
  {
   "cell_type": "code",
   "execution_count": 94,
   "id": "f0ab3e97-cf7e-4f20-86ff-1c8b4504da7e",
   "metadata": {
    "execution": {
     "iopub.execute_input": "2022-06-30T13:27:19.491133Z",
     "iopub.status.busy": "2022-06-30T13:27:19.490421Z",
     "iopub.status.idle": "2022-06-30T13:27:30.789152Z",
     "shell.execute_reply": "2022-06-30T13:27:30.775314Z",
     "shell.execute_reply.started": "2022-06-30T13:27:19.491101Z"
    },
    "tags": []
   },
   "outputs": [
    {
     "name": "stderr",
     "output_type": "stream",
     "text": [
      "/home/mohammad/Documents/Programming/ML/env/lib/python3.10/site-packages/sklearn/utils/validation.py:1111: DataConversionWarning: A column-vector y was passed when a 1d array was expected. Please change the shape of y to (n_samples, ), for example using ravel().\n",
      "  y = column_or_1d(y, warn=True)\n"
     ]
    },
    {
     "data": {
      "text/html": [
       "<style>#sk-container-id-23 {color: black;background-color: white;}#sk-container-id-23 pre{padding: 0;}#sk-container-id-23 div.sk-toggleable {background-color: white;}#sk-container-id-23 label.sk-toggleable__label {cursor: pointer;display: block;width: 100%;margin-bottom: 0;padding: 0.3em;box-sizing: border-box;text-align: center;}#sk-container-id-23 label.sk-toggleable__label-arrow:before {content: \"▸\";float: left;margin-right: 0.25em;color: #696969;}#sk-container-id-23 label.sk-toggleable__label-arrow:hover:before {color: black;}#sk-container-id-23 div.sk-estimator:hover label.sk-toggleable__label-arrow:before {color: black;}#sk-container-id-23 div.sk-toggleable__content {max-height: 0;max-width: 0;overflow: hidden;text-align: left;background-color: #f0f8ff;}#sk-container-id-23 div.sk-toggleable__content pre {margin: 0.2em;color: black;border-radius: 0.25em;background-color: #f0f8ff;}#sk-container-id-23 input.sk-toggleable__control:checked~div.sk-toggleable__content {max-height: 200px;max-width: 100%;overflow: auto;}#sk-container-id-23 input.sk-toggleable__control:checked~label.sk-toggleable__label-arrow:before {content: \"▾\";}#sk-container-id-23 div.sk-estimator input.sk-toggleable__control:checked~label.sk-toggleable__label {background-color: #d4ebff;}#sk-container-id-23 div.sk-label input.sk-toggleable__control:checked~label.sk-toggleable__label {background-color: #d4ebff;}#sk-container-id-23 input.sk-hidden--visually {border: 0;clip: rect(1px 1px 1px 1px);clip: rect(1px, 1px, 1px, 1px);height: 1px;margin: -1px;overflow: hidden;padding: 0;position: absolute;width: 1px;}#sk-container-id-23 div.sk-estimator {font-family: monospace;background-color: #f0f8ff;border: 1px dotted black;border-radius: 0.25em;box-sizing: border-box;margin-bottom: 0.5em;}#sk-container-id-23 div.sk-estimator:hover {background-color: #d4ebff;}#sk-container-id-23 div.sk-parallel-item::after {content: \"\";width: 100%;border-bottom: 1px solid gray;flex-grow: 1;}#sk-container-id-23 div.sk-label:hover label.sk-toggleable__label {background-color: #d4ebff;}#sk-container-id-23 div.sk-serial::before {content: \"\";position: absolute;border-left: 1px solid gray;box-sizing: border-box;top: 0;bottom: 0;left: 50%;z-index: 0;}#sk-container-id-23 div.sk-serial {display: flex;flex-direction: column;align-items: center;background-color: white;padding-right: 0.2em;padding-left: 0.2em;position: relative;}#sk-container-id-23 div.sk-item {position: relative;z-index: 1;}#sk-container-id-23 div.sk-parallel {display: flex;align-items: stretch;justify-content: center;background-color: white;position: relative;}#sk-container-id-23 div.sk-item::before, #sk-container-id-23 div.sk-parallel-item::before {content: \"\";position: absolute;border-left: 1px solid gray;box-sizing: border-box;top: 0;bottom: 0;left: 50%;z-index: -1;}#sk-container-id-23 div.sk-parallel-item {display: flex;flex-direction: column;z-index: 1;position: relative;background-color: white;}#sk-container-id-23 div.sk-parallel-item:first-child::after {align-self: flex-end;width: 50%;}#sk-container-id-23 div.sk-parallel-item:last-child::after {align-self: flex-start;width: 50%;}#sk-container-id-23 div.sk-parallel-item:only-child::after {width: 0;}#sk-container-id-23 div.sk-dashed-wrapped {border: 1px dashed gray;margin: 0 0.4em 0.5em 0.4em;box-sizing: border-box;padding-bottom: 0.4em;background-color: white;}#sk-container-id-23 div.sk-label label {font-family: monospace;font-weight: bold;display: inline-block;line-height: 1.2em;}#sk-container-id-23 div.sk-label-container {text-align: center;}#sk-container-id-23 div.sk-container {/* jupyter's `normalize.less` sets `[hidden] { display: none; }` but bootstrap.min.css set `[hidden] { display: none !important; }` so we also need the `!important` here to be able to override the default hidden behavior on the sphinx rendered scikit-learn.org. See: https://github.com/scikit-learn/scikit-learn/issues/21755 */display: inline-block !important;position: relative;}#sk-container-id-23 div.sk-text-repr-fallback {display: none;}</style><div id=\"sk-container-id-23\" class=\"sk-top-container\"><div class=\"sk-text-repr-fallback\"><pre>LogisticRegression(max_iter=100000)</pre><b>In a Jupyter environment, please rerun this cell to show the HTML representation or trust the notebook. <br />On GitHub, the HTML representation is unable to render, please try loading this page with nbviewer.org.</b></div><div class=\"sk-container\" hidden><div class=\"sk-item\"><div class=\"sk-estimator sk-toggleable\"><input class=\"sk-toggleable__control sk-hidden--visually\" id=\"sk-estimator-id-49\" type=\"checkbox\" checked><label for=\"sk-estimator-id-49\" class=\"sk-toggleable__label sk-toggleable__label-arrow\">LogisticRegression</label><div class=\"sk-toggleable__content\"><pre>LogisticRegression(max_iter=100000)</pre></div></div></div></div></div>"
      ],
      "text/plain": [
       "LogisticRegression(max_iter=100000)"
      ]
     },
     "execution_count": 94,
     "metadata": {},
     "output_type": "execute_result"
    }
   ],
   "source": [
    "model_logestic.fit(X_train,y_train)"
   ]
  },
  {
   "cell_type": "code",
   "execution_count": 95,
   "id": "326c79de-212b-454c-81d5-06973cec4cac",
   "metadata": {
    "execution": {
     "iopub.execute_input": "2022-06-30T13:27:30.897776Z",
     "iopub.status.busy": "2022-06-30T13:27:30.897305Z",
     "iopub.status.idle": "2022-06-30T13:27:30.907748Z",
     "shell.execute_reply": "2022-06-30T13:27:30.906427Z",
     "shell.execute_reply.started": "2022-06-30T13:27:30.897726Z"
    },
    "tags": []
   },
   "outputs": [],
   "source": [
    "import matplotlib.pyplot as plt"
   ]
  },
  {
   "cell_type": "code",
   "execution_count": 96,
   "id": "5557f434-fe70-4da1-b4b9-c7f1e190c882",
   "metadata": {
    "execution": {
     "iopub.execute_input": "2022-06-30T13:27:30.912128Z",
     "iopub.status.busy": "2022-06-30T13:27:30.911330Z",
     "iopub.status.idle": "2022-06-30T13:27:31.150551Z",
     "shell.execute_reply": "2022-06-30T13:27:31.149767Z",
     "shell.execute_reply.started": "2022-06-30T13:27:30.912068Z"
    },
    "tags": []
   },
   "outputs": [
    {
     "data": {
      "image/png": "[encoded data removed]",
      "text/plain": [
       "<Figure size 432x288 with 1 Axes>"
      ]
     },
     "metadata": {
      "needs_background": "light"
     },
     "output_type": "display_data"
    }
   ],
   "source": [
    "for i in range (4):\n",
    "    plt.boxplot(X.iloc[:,1:2])"
   ]
  },
  {
   "cell_type": "code",
   "execution_count": 97,
   "id": "a6970f52-1fd9-4465-8f83-b417b3b8c58d",
   "metadata": {
    "execution": {
     "iopub.execute_input": "2022-06-30T13:27:31.151701Z",
     "iopub.status.busy": "2022-06-30T13:27:31.151419Z",
     "iopub.status.idle": "2022-06-30T13:27:31.295874Z",
     "shell.execute_reply": "2022-06-30T13:27:31.294719Z",
     "shell.execute_reply.started": "2022-06-30T13:27:31.151681Z"
    },
    "tags": []
   },
   "outputs": [
    {
     "data": {
      "text/plain": [
       "{'whiskers': [<matplotlib.lines.Line2D at 0x7fe04a603dc0>,\n",
       "  <matplotlib.lines.Line2D at 0x7fe04a6405e0>],\n",
       " 'caps': [<matplotlib.lines.Line2D at 0x7fe04a640310>,\n",
       "  <matplotlib.lines.Line2D at 0x7fe04a640d00>],\n",
       " 'boxes': [<matplotlib.lines.Line2D at 0x7fe04a603af0>],\n",
       " 'medians': [<matplotlib.lines.Line2D at 0x7fe04a6408b0>],\n",
       " 'fliers': [<matplotlib.lines.Line2D at 0x7fe04a641300>],\n",
       " 'means': []}"
      ]
     },
     "execution_count": 97,
     "metadata": {},
     "output_type": "execute_result"
    },
    {
     "data": {
      "image/png": "[encoded data removed]",
      "text/plain": [
       "<Figure size 432x288 with 1 Axes>"
      ]
     },
     "metadata": {
      "needs_background": "light"
     },
     "output_type": "display_data"
    }
   ],
   "source": [
    "plt.boxplot(df.iloc[:,2:3])"
   ]
  },
  {
   "cell_type": "code",
   "execution_count": 98,
   "id": "bfb6b5ff-f022-4470-a55d-3831e3a053e0",
   "metadata": {
    "execution": {
     "iopub.execute_input": "2022-06-30T13:27:31.297804Z",
     "iopub.status.busy": "2022-06-30T13:27:31.297348Z",
     "iopub.status.idle": "2022-06-30T13:27:31.391110Z",
     "shell.execute_reply": "2022-06-30T13:27:31.390383Z",
     "shell.execute_reply.started": "2022-06-30T13:27:31.297766Z"
    },
    "tags": []
   },
   "outputs": [],
   "source": [
    "from sklearn.ensemble import RandomForestClassifier\n",
    "from sklearn.datasets import make_classification"
   ]
  },
  {
   "cell_type": "code",
   "execution_count": 99,
   "id": "23aaf7ae-2adc-4452-a49b-4054070e64ac",
   "metadata": {
    "execution": {
     "iopub.execute_input": "2022-06-30T13:27:31.393100Z",
     "iopub.status.busy": "2022-06-30T13:27:31.392126Z",
     "iopub.status.idle": "2022-06-30T13:27:31.397724Z",
     "shell.execute_reply": "2022-06-30T13:27:31.396724Z",
     "shell.execute_reply.started": "2022-06-30T13:27:31.393062Z"
    },
    "tags": []
   },
   "outputs": [],
   "source": [
    "model_randomforrest = RandomForestClassifier()"
   ]
  },
  {
   "cell_type": "code",
   "execution_count": 100,
   "id": "ec76d6c6-0174-48fe-9490-fa9cb928469d",
   "metadata": {
    "execution": {
     "iopub.execute_input": "2022-06-30T13:27:31.399721Z",
     "iopub.status.busy": "2022-06-30T13:27:31.399141Z",
     "iopub.status.idle": "2022-06-30T13:27:32.708760Z",
     "shell.execute_reply": "2022-06-30T13:27:32.707706Z",
     "shell.execute_reply.started": "2022-06-30T13:27:31.399688Z"
    },
    "tags": []
   },
   "outputs": [
    {
     "name": "stderr",
     "output_type": "stream",
     "text": [
      "/tmp/ipykernel_4142/1750354265.py:2: DataConversionWarning: A column-vector y was passed when a 1d array was expected. Please change the shape of y to (n_samples,), for example using ravel().\n",
      "  clf.fit(X_train, y_train)\n"
     ]
    },
    {
     "data": {
      "text/html": [
       "<style>#sk-container-id-24 {color: black;background-color: white;}#sk-container-id-24 pre{padding: 0;}#sk-container-id-24 div.sk-toggleable {background-color: white;}#sk-container-id-24 label.sk-toggleable__label {cursor: pointer;display: block;width: 100%;margin-bottom: 0;padding: 0.3em;box-sizing: border-box;text-align: center;}#sk-container-id-24 label.sk-toggleable__label-arrow:before {content: \"▸\";float: left;margin-right: 0.25em;color: #696969;}#sk-container-id-24 label.sk-toggleable__label-arrow:hover:before {color: black;}#sk-container-id-24 div.sk-estimator:hover label.sk-toggleable__label-arrow:before {color: black;}#sk-container-id-24 div.sk-toggleable__content {max-height: 0;max-width: 0;overflow: hidden;text-align: left;background-color: #f0f8ff;}#sk-container-id-24 div.sk-toggleable__content pre {margin: 0.2em;color: black;border-radius: 0.25em;background-color: #f0f8ff;}#sk-container-id-24 input.sk-toggleable__control:checked~div.sk-toggleable__content {max-height: 200px;max-width: 100%;overflow: auto;}#sk-container-id-24 input.sk-toggleable__control:checked~label.sk-toggleable__label-arrow:before {content: \"▾\";}#sk-container-id-24 div.sk-estimator input.sk-toggleable__control:checked~label.sk-toggleable__label {background-color: #d4ebff;}#sk-container-id-24 div.sk-label input.sk-toggleable__control:checked~label.sk-toggleable__label {background-color: #d4ebff;}#sk-container-id-24 input.sk-hidden--visually {border: 0;clip: rect(1px 1px 1px 1px);clip: rect(1px, 1px, 1px, 1px);height: 1px;margin: -1px;overflow: hidden;padding: 0;position: absolute;width: 1px;}#sk-container-id-24 div.sk-estimator {font-family: monospace;background-color: #f0f8ff;border: 1px dotted black;border-radius: 0.25em;box-sizing: border-box;margin-bottom: 0.5em;}#sk-container-id-24 div.sk-estimator:hover {background-color: #d4ebff;}#sk-container-id-24 div.sk-parallel-item::after {content: \"\";width: 100%;border-bottom: 1px solid gray;flex-grow: 1;}#sk-container-id-24 div.sk-label:hover label.sk-toggleable__label {background-color: #d4ebff;}#sk-container-id-24 div.sk-serial::before {content: \"\";position: absolute;border-left: 1px solid gray;box-sizing: border-box;top: 0;bottom: 0;left: 50%;z-index: 0;}#sk-container-id-24 div.sk-serial {display: flex;flex-direction: column;align-items: center;background-color: white;padding-right: 0.2em;padding-left: 0.2em;position: relative;}#sk-container-id-24 div.sk-item {position: relative;z-index: 1;}#sk-container-id-24 div.sk-parallel {display: flex;align-items: stretch;justify-content: center;background-color: white;position: relative;}#sk-container-id-24 div.sk-item::before, #sk-container-id-24 div.sk-parallel-item::before {content: \"\";position: absolute;border-left: 1px solid gray;box-sizing: border-box;top: 0;bottom: 0;left: 50%;z-index: -1;}#sk-container-id-24 div.sk-parallel-item {display: flex;flex-direction: column;z-index: 1;position: relative;background-color: white;}#sk-container-id-24 div.sk-parallel-item:first-child::after {align-self: flex-end;width: 50%;}#sk-container-id-24 div.sk-parallel-item:last-child::after {align-self: flex-start;width: 50%;}#sk-container-id-24 div.sk-parallel-item:only-child::after {width: 0;}#sk-container-id-24 div.sk-dashed-wrapped {border: 1px dashed gray;margin: 0 0.4em 0.5em 0.4em;box-sizing: border-box;padding-bottom: 0.4em;background-color: white;}#sk-container-id-24 div.sk-label label {font-family: monospace;font-weight: bold;display: inline-block;line-height: 1.2em;}#sk-container-id-24 div.sk-label-container {text-align: center;}#sk-container-id-24 div.sk-container {/* jupyter's `normalize.less` sets `[hidden] { display: none; }` but bootstrap.min.css set `[hidden] { display: none !important; }` so we also need the `!important` here to be able to override the default hidden behavior on the sphinx rendered scikit-learn.org. See: https://github.com/scikit-learn/scikit-learn/issues/21755 */display: inline-block !important;position: relative;}#sk-container-id-24 div.sk-text-repr-fallback {display: none;}</style><div id=\"sk-container-id-24\" class=\"sk-top-container\"><div class=\"sk-text-repr-fallback\"><pre>RandomForestClassifier(random_state=0)</pre><b>In a Jupyter environment, please rerun this cell to show the HTML representation or trust the notebook. <br />On GitHub, the HTML representation is unable to render, please try loading this page with nbviewer.org.</b></div><div class=\"sk-container\" hidden><div class=\"sk-item\"><div class=\"sk-estimator sk-toggleable\"><input class=\"sk-toggleable__control sk-hidden--visually\" id=\"sk-estimator-id-50\" type=\"checkbox\" checked><label for=\"sk-estimator-id-50\" class=\"sk-toggleable__label sk-toggleable__label-arrow\">RandomForestClassifier</label><div class=\"sk-toggleable__content\"><pre>RandomForestClassifier(random_state=0)</pre></div></div></div></div></div>"
      ],
      "text/plain": [
       "RandomForestClassifier(random_state=0)"
      ]
     },
     "execution_count": 100,
     "metadata": {},
     "output_type": "execute_result"
    }
   ],
   "source": [
    "\n",
    "clf = RandomForestClassifier(random_state=0)\n",
    "clf.fit(X_train, y_train)"
   ]
  },
  {
   "cell_type": "code",
   "execution_count": 101,
   "id": "545cceb3-38c6-4165-a3b3-1148ed11dd09",
   "metadata": {
    "execution": {
     "iopub.execute_input": "2022-06-30T13:27:32.710300Z",
     "iopub.status.busy": "2022-06-30T13:27:32.709860Z",
     "iopub.status.idle": "2022-06-30T13:27:32.864132Z",
     "shell.execute_reply": "2022-06-30T13:27:32.863124Z",
     "shell.execute_reply.started": "2022-06-30T13:27:32.710266Z"
    },
    "tags": []
   },
   "outputs": [
    {
     "data": {
      "text/plain": [
       "0.9766666666666667"
      ]
     },
     "execution_count": 101,
     "metadata": {},
     "output_type": "execute_result"
    }
   ],
   "source": [
    "clf.score(X_test,y_test)"
   ]
  },
  {
   "cell_type": "code",
   "execution_count": null,
   "id": "46bfe5a8-de02-4642-8a5b-e7da03fb8c03",
   "metadata": {},
   "outputs": [],
   "source": []
  },
  {
   "cell_type": "code",
   "execution_count": 102,
   "id": "1bccec60-e7cb-4319-955b-06abc3918eaf",
   "metadata": {
    "execution": {
     "iopub.execute_input": "2022-06-30T13:27:32.867816Z",
     "iopub.status.busy": "2022-06-30T13:27:32.867413Z",
     "iopub.status.idle": "2022-06-30T13:27:32.872273Z",
     "shell.execute_reply": "2022-06-30T13:27:32.871150Z",
     "shell.execute_reply.started": "2022-06-30T13:27:32.867784Z"
    },
    "tags": []
   },
   "outputs": [],
   "source": [
    "from sklearn.decomposition import PCA\n",
    "from sklearn.pipeline import make_pipeline\n",
    "from sklearn.preprocessing import StandardScaler"
   ]
  },
  {
   "cell_type": "code",
   "execution_count": 103,
   "id": "0df8482e-b186-45dc-a92e-50e5010df9c0",
   "metadata": {
    "execution": {
     "iopub.execute_input": "2022-06-30T13:27:32.874028Z",
     "iopub.status.busy": "2022-06-30T13:27:32.873561Z",
     "iopub.status.idle": "2022-06-30T13:27:34.208631Z",
     "shell.execute_reply": "2022-06-30T13:27:34.207653Z",
     "shell.execute_reply.started": "2022-06-30T13:27:32.873995Z"
    },
    "tags": []
   },
   "outputs": [
    {
     "name": "stderr",
     "output_type": "stream",
     "text": [
      "/home/mohammad/Documents/Programming/ML/env/lib/python3.10/site-packages/sklearn/pipeline.py:382: DataConversionWarning: A column-vector y was passed when a 1d array was expected. Please change the shape of y to (n_samples,), for example using ravel().\n",
      "  self._final_estimator.fit(Xt, y, **fit_params_last_step)\n"
     ]
    },
    {
     "data": {
      "text/html": [
       "<style>#sk-container-id-25 {color: black;background-color: white;}#sk-container-id-25 pre{padding: 0;}#sk-container-id-25 div.sk-toggleable {background-color: white;}#sk-container-id-25 label.sk-toggleable__label {cursor: pointer;display: block;width: 100%;margin-bottom: 0;padding: 0.3em;box-sizing: border-box;text-align: center;}#sk-container-id-25 label.sk-toggleable__label-arrow:before {content: \"▸\";float: left;margin-right: 0.25em;color: #696969;}#sk-container-id-25 label.sk-toggleable__label-arrow:hover:before {color: black;}#sk-container-id-25 div.sk-estimator:hover label.sk-toggleable__label-arrow:before {color: black;}#sk-container-id-25 div.sk-toggleable__content {max-height: 0;max-width: 0;overflow: hidden;text-align: left;background-color: #f0f8ff;}#sk-container-id-25 div.sk-toggleable__content pre {margin: 0.2em;color: black;border-radius: 0.25em;background-color: #f0f8ff;}#sk-container-id-25 input.sk-toggleable__control:checked~div.sk-toggleable__content {max-height: 200px;max-width: 100%;overflow: auto;}#sk-container-id-25 input.sk-toggleable__control:checked~label.sk-toggleable__label-arrow:before {content: \"▾\";}#sk-container-id-25 div.sk-estimator input.sk-toggleable__control:checked~label.sk-toggleable__label {background-color: #d4ebff;}#sk-container-id-25 div.sk-label input.sk-toggleable__control:checked~label.sk-toggleable__label {background-color: #d4ebff;}#sk-container-id-25 input.sk-hidden--visually {border: 0;clip: rect(1px 1px 1px 1px);clip: rect(1px, 1px, 1px, 1px);height: 1px;margin: -1px;overflow: hidden;padding: 0;position: absolute;width: 1px;}#sk-container-id-25 div.sk-estimator {font-family: monospace;background-color: #f0f8ff;border: 1px dotted black;border-radius: 0.25em;box-sizing: border-box;margin-bottom: 0.5em;}#sk-container-id-25 div.sk-estimator:hover {background-color: #d4ebff;}#sk-container-id-25 div.sk-parallel-item::after {content: \"\";width: 100%;border-bottom: 1px solid gray;flex-grow: 1;}#sk-container-id-25 div.sk-label:hover label.sk-toggleable__label {background-color: #d4ebff;}#sk-container-id-25 div.sk-serial::before {content: \"\";position: absolute;border-left: 1px solid gray;box-sizing: border-box;top: 0;bottom: 0;left: 50%;z-index: 0;}#sk-container-id-25 div.sk-serial {display: flex;flex-direction: column;align-items: center;background-color: white;padding-right: 0.2em;padding-left: 0.2em;position: relative;}#sk-container-id-25 div.sk-item {position: relative;z-index: 1;}#sk-container-id-25 div.sk-parallel {display: flex;align-items: stretch;justify-content: center;background-color: white;position: relative;}#sk-container-id-25 div.sk-item::before, #sk-container-id-25 div.sk-parallel-item::before {content: \"\";position: absolute;border-left: 1px solid gray;box-sizing: border-box;top: 0;bottom: 0;left: 50%;z-index: -1;}#sk-container-id-25 div.sk-parallel-item {display: flex;flex-direction: column;z-index: 1;position: relative;background-color: white;}#sk-container-id-25 div.sk-parallel-item:first-child::after {align-self: flex-end;width: 50%;}#sk-container-id-25 div.sk-parallel-item:last-child::after {align-self: flex-start;width: 50%;}#sk-container-id-25 div.sk-parallel-item:only-child::after {width: 0;}#sk-container-id-25 div.sk-dashed-wrapped {border: 1px dashed gray;margin: 0 0.4em 0.5em 0.4em;box-sizing: border-box;padding-bottom: 0.4em;background-color: white;}#sk-container-id-25 div.sk-label label {font-family: monospace;font-weight: bold;display: inline-block;line-height: 1.2em;}#sk-container-id-25 div.sk-label-container {text-align: center;}#sk-container-id-25 div.sk-container {/* jupyter's `normalize.less` sets `[hidden] { display: none; }` but bootstrap.min.css set `[hidden] { display: none !important; }` so we also need the `!important` here to be able to override the default hidden behavior on the sphinx rendered scikit-learn.org. See: https://github.com/scikit-learn/scikit-learn/issues/21755 */display: inline-block !important;position: relative;}#sk-container-id-25 div.sk-text-repr-fallback {display: none;}</style><div id=\"sk-container-id-25\" class=\"sk-top-container\"><div class=\"sk-text-repr-fallback\"><pre>Pipeline(steps=[(&#x27;standardscaler&#x27;, StandardScaler()),\n",
       "                (&#x27;randomforestclassifier&#x27;, RandomForestClassifier())])</pre><b>In a Jupyter environment, please rerun this cell to show the HTML representation or trust the notebook. <br />On GitHub, the HTML representation is unable to render, please try loading this page with nbviewer.org.</b></div><div class=\"sk-container\" hidden><div class=\"sk-item sk-dashed-wrapped\"><div class=\"sk-label-container\"><div class=\"sk-label sk-toggleable\"><input class=\"sk-toggleable__control sk-hidden--visually\" id=\"sk-estimator-id-51\" type=\"checkbox\" ><label for=\"sk-estimator-id-51\" class=\"sk-toggleable__label sk-toggleable__label-arrow\">Pipeline</label><div class=\"sk-toggleable__content\"><pre>Pipeline(steps=[(&#x27;standardscaler&#x27;, StandardScaler()),\n",
       "                (&#x27;randomforestclassifier&#x27;, RandomForestClassifier())])</pre></div></div></div><div class=\"sk-serial\"><div class=\"sk-item\"><div class=\"sk-estimator sk-toggleable\"><input class=\"sk-toggleable__control sk-hidden--visually\" id=\"sk-estimator-id-52\" type=\"checkbox\" ><label for=\"sk-estimator-id-52\" class=\"sk-toggleable__label sk-toggleable__label-arrow\">StandardScaler</label><div class=\"sk-toggleable__content\"><pre>StandardScaler()</pre></div></div></div><div class=\"sk-item\"><div class=\"sk-estimator sk-toggleable\"><input class=\"sk-toggleable__control sk-hidden--visually\" id=\"sk-estimator-id-53\" type=\"checkbox\" ><label for=\"sk-estimator-id-53\" class=\"sk-toggleable__label sk-toggleable__label-arrow\">RandomForestClassifier</label><div class=\"sk-toggleable__content\"><pre>RandomForestClassifier()</pre></div></div></div></div></div></div></div>"
      ],
      "text/plain": [
       "Pipeline(steps=[('standardscaler', StandardScaler()),\n",
       "                ('randomforestclassifier', RandomForestClassifier())])"
      ]
     },
     "execution_count": 103,
     "metadata": {},
     "output_type": "execute_result"
    }
   ],
   "source": [
    "pcr = make_pipeline(StandardScaler(), RandomForestClassifier())\n",
    "pcr.fit(X_train, y_train)"
   ]
  },
  {
   "cell_type": "code",
   "execution_count": 104,
   "id": "56a51c28-27e7-4441-9af4-89c0a3a1d00b",
   "metadata": {
    "execution": {
     "iopub.execute_input": "2022-06-30T13:27:34.211158Z",
     "iopub.status.busy": "2022-06-30T13:27:34.210509Z",
     "iopub.status.idle": "2022-06-30T13:27:34.367952Z",
     "shell.execute_reply": "2022-06-30T13:27:34.366889Z",
     "shell.execute_reply.started": "2022-06-30T13:27:34.211132Z"
    },
    "tags": []
   },
   "outputs": [
    {
     "data": {
      "text/plain": [
       "0.9796969696969697"
      ]
     },
     "execution_count": 104,
     "metadata": {},
     "output_type": "execute_result"
    }
   ],
   "source": [
    "pcr.score(X_test,y_test)"
   ]
  },
  {
   "cell_type": "code",
   "execution_count": null,
   "id": "6d7fbcda-58e3-4d17-8fbe-ecf9e4c9fd06",
   "metadata": {},
   "outputs": [],
   "source": []
  }
 ],
 "metadata": {
  "kernelspec": {
   "display_name": "Python 3 (ipykernel)",
   "language": "python",
   "name": "python3"
  },
  "language_info": {
   "codemirror_mode": {
    "name": "ipython",
    "version": 3
   },
   "file_extension": ".py",
   "mimetype": "text/x-python",
   "name": "python",
   "nbconvert_exporter": "python",
   "pygments_lexer": "ipython3",
   "version": "3.10.4"
  }
 },
 "nbformat": 4,
 "nbformat_minor": 5
}
