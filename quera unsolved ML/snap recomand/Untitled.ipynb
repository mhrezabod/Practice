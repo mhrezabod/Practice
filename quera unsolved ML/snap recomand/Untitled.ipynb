{
 "cells": [
  {
   "cell_type": "code",
   "execution_count": 1,
   "id": "00427d74-c8e3-47d8-a5b0-1656005ee63f",
   "metadata": {
    "execution": {
     "iopub.execute_input": "2022-06-08T15:13:27.534755Z",
     "iopub.status.busy": "2022-06-08T15:13:27.534034Z",
     "iopub.status.idle": "2022-06-08T15:13:27.862810Z",
     "shell.execute_reply": "2022-06-08T15:13:27.862127Z",
     "shell.execute_reply.started": "2022-06-08T15:13:27.534689Z"
    },
    "tags": []
   },
   "outputs": [],
   "source": [
    "import pandas as pd"
   ]
  },
  {
   "cell_type": "code",
   "execution_count": 2,
   "id": "a80b86cc-5514-4abc-8bd0-1f2f7dd776f6",
   "metadata": {
    "execution": {
     "iopub.execute_input": "2022-06-08T15:13:28.433925Z",
     "iopub.status.busy": "2022-06-08T15:13:28.430248Z",
     "iopub.status.idle": "2022-06-08T15:13:34.613747Z",
     "shell.execute_reply": "2022-06-08T15:13:34.601754Z",
     "shell.execute_reply.started": "2022-06-08T15:13:28.433772Z"
    },
    "tags": []
   },
   "outputs": [],
   "source": [
    "df = pd.read_csv('train.csv')"
   ]
  },
  {
   "cell_type": "code",
   "execution_count": 3,
   "id": "0ec6f791-8d3d-431b-9bb5-5edfbb8a760a",
   "metadata": {
    "execution": {
     "iopub.execute_input": "2022-06-08T15:13:34.640684Z",
     "iopub.status.busy": "2022-06-08T15:13:34.639535Z",
     "iopub.status.idle": "2022-06-08T15:13:34.679951Z",
     "shell.execute_reply": "2022-06-08T15:13:34.678293Z",
     "shell.execute_reply.started": "2022-06-08T15:13:34.640570Z"
    },
    "tags": []
   },
   "outputs": [
    {
     "data": {
      "text/html": [
       "<div>\n",
       "<style scoped>\n",
       "    .dataframe tbody tr th:only-of-type {\n",
       "        vertical-align: middle;\n",
       "    }\n",
       "\n",
       "    .dataframe tbody tr th {\n",
       "        vertical-align: top;\n",
       "    }\n",
       "\n",
       "    .dataframe thead th {\n",
       "        text-align: right;\n",
       "    }\n",
       "</style>\n",
       "<table border=\"1\" class=\"dataframe\">\n",
       "  <thead>\n",
       "    <tr style=\"text-align: right;\">\n",
       "      <th></th>\n",
       "      <th>userId</th>\n",
       "      <th>itemId</th>\n",
       "      <th>rating</th>\n",
       "      <th>date</th>\n",
       "    </tr>\n",
       "  </thead>\n",
       "  <tbody>\n",
       "    <tr>\n",
       "      <th>0</th>\n",
       "      <td>cgexjc</td>\n",
       "      <td>682978</td>\n",
       "      <td>4</td>\n",
       "      <td>2017-08-13 13:23:35</td>\n",
       "    </tr>\n",
       "    <tr>\n",
       "      <th>1</th>\n",
       "      <td>cgexjc</td>\n",
       "      <td>320898</td>\n",
       "      <td>4</td>\n",
       "      <td>2019-01-18 15:56:07</td>\n",
       "    </tr>\n",
       "    <tr>\n",
       "      <th>2</th>\n",
       "      <td>cgexjc</td>\n",
       "      <td>29028</td>\n",
       "      <td>4</td>\n",
       "      <td>2017-08-13 14:03:55</td>\n",
       "    </tr>\n",
       "    <tr>\n",
       "      <th>3</th>\n",
       "      <td>cgexjc</td>\n",
       "      <td>399148</td>\n",
       "      <td>5</td>\n",
       "      <td>2017-08-13 13:59:51</td>\n",
       "    </tr>\n",
       "    <tr>\n",
       "      <th>4</th>\n",
       "      <td>cgexjc</td>\n",
       "      <td>734055</td>\n",
       "      <td>4</td>\n",
       "      <td>2019-01-18 15:37:29</td>\n",
       "    </tr>\n",
       "    <tr>\n",
       "      <th>...</th>\n",
       "      <td>...</td>\n",
       "      <td>...</td>\n",
       "      <td>...</td>\n",
       "      <td>...</td>\n",
       "    </tr>\n",
       "    <tr>\n",
       "      <th>8612102</th>\n",
       "      <td>blqyzd</td>\n",
       "      <td>148210</td>\n",
       "      <td>1</td>\n",
       "      <td>2017-08-05 14:15:09</td>\n",
       "    </tr>\n",
       "    <tr>\n",
       "      <th>8612103</th>\n",
       "      <td>blqyzd</td>\n",
       "      <td>735535</td>\n",
       "      <td>4</td>\n",
       "      <td>2017-08-05 14:14:35</td>\n",
       "    </tr>\n",
       "    <tr>\n",
       "      <th>8612104</th>\n",
       "      <td>blqyzd</td>\n",
       "      <td>124242</td>\n",
       "      <td>3</td>\n",
       "      <td>2017-08-05 14:25:33</td>\n",
       "    </tr>\n",
       "    <tr>\n",
       "      <th>8612105</th>\n",
       "      <td>blqyzd</td>\n",
       "      <td>948393</td>\n",
       "      <td>4</td>\n",
       "      <td>2017-08-05 13:25:21</td>\n",
       "    </tr>\n",
       "    <tr>\n",
       "      <th>8612106</th>\n",
       "      <td>blqyzd</td>\n",
       "      <td>163356</td>\n",
       "      <td>4</td>\n",
       "      <td>2017-08-05 14:24:57</td>\n",
       "    </tr>\n",
       "  </tbody>\n",
       "</table>\n",
       "<p>8612107 rows × 4 columns</p>\n",
       "</div>"
      ],
      "text/plain": [
       "         userId  itemId  rating                 date\n",
       "0        cgexjc  682978       4  2017-08-13 13:23:35\n",
       "1        cgexjc  320898       4  2019-01-18 15:56:07\n",
       "2        cgexjc   29028       4  2017-08-13 14:03:55\n",
       "3        cgexjc  399148       5  2017-08-13 13:59:51\n",
       "4        cgexjc  734055       4  2019-01-18 15:37:29\n",
       "...         ...     ...     ...                  ...\n",
       "8612102  blqyzd  148210       1  2017-08-05 14:15:09\n",
       "8612103  blqyzd  735535       4  2017-08-05 14:14:35\n",
       "8612104  blqyzd  124242       3  2017-08-05 14:25:33\n",
       "8612105  blqyzd  948393       4  2017-08-05 13:25:21\n",
       "8612106  blqyzd  163356       4  2017-08-05 14:24:57\n",
       "\n",
       "[8612107 rows x 4 columns]"
      ]
     },
     "execution_count": 3,
     "metadata": {},
     "output_type": "execute_result"
    }
   ],
   "source": [
    "df"
   ]
  },
  {
   "cell_type": "code",
   "execution_count": 4,
   "id": "6acfedd0-a59c-4d18-9dfd-79ce715bd67a",
   "metadata": {
    "execution": {
     "iopub.execute_input": "2022-06-08T15:13:51.164016Z",
     "iopub.status.busy": "2022-06-08T15:13:51.163450Z",
     "iopub.status.idle": "2022-06-08T15:13:51.576069Z",
     "shell.execute_reply": "2022-06-08T15:13:51.575353Z",
     "shell.execute_reply.started": "2022-06-08T15:13:51.163975Z"
    },
    "tags": []
   },
   "outputs": [
    {
     "data": {
      "text/plain": [
       "54754"
      ]
     },
     "execution_count": 4,
     "metadata": {},
     "output_type": "execute_result"
    }
   ],
   "source": [
    "df.userId.nunique()"
   ]
  },
  {
   "cell_type": "code",
   "execution_count": 5,
   "id": "63acf4be-6430-4199-b7ca-0a0595d9dab7",
   "metadata": {
    "execution": {
     "iopub.execute_input": "2022-06-08T15:13:52.151483Z",
     "iopub.status.busy": "2022-06-08T15:13:52.146781Z",
     "iopub.status.idle": "2022-06-08T15:13:52.372845Z",
     "shell.execute_reply": "2022-06-08T15:13:52.371578Z",
     "shell.execute_reply.started": "2022-06-08T15:13:52.151391Z"
    },
    "tags": []
   },
   "outputs": [
    {
     "data": {
      "text/plain": [
       "55093"
      ]
     },
     "execution_count": 5,
     "metadata": {},
     "output_type": "execute_result"
    }
   ],
   "source": [
    "df.itemId.nunique()"
   ]
  },
  {
   "cell_type": "code",
   "execution_count": 6,
   "id": "ce33d7e3-92eb-44a0-a9a0-d5e4c0f4e132",
   "metadata": {
    "execution": {
     "iopub.execute_input": "2022-06-08T15:13:52.946631Z",
     "iopub.status.busy": "2022-06-08T15:13:52.945511Z",
     "iopub.status.idle": "2022-06-08T15:13:53.020145Z",
     "shell.execute_reply": "2022-06-08T15:13:53.016656Z",
     "shell.execute_reply.started": "2022-06-08T15:13:52.946534Z"
    },
    "tags": []
   },
   "outputs": [
    {
     "data": {
      "text/plain": [
       "5"
      ]
     },
     "execution_count": 6,
     "metadata": {},
     "output_type": "execute_result"
    }
   ],
   "source": [
    "df.rating.nunique()"
   ]
  },
  {
   "cell_type": "code",
   "execution_count": 7,
   "id": "f897c92c-2bb7-477b-8afa-70553a09738e",
   "metadata": {
    "execution": {
     "iopub.execute_input": "2022-06-08T15:13:54.389810Z",
     "iopub.status.busy": "2022-06-08T15:13:54.389081Z",
     "iopub.status.idle": "2022-06-08T15:20:53.664155Z",
     "shell.execute_reply": "2022-06-08T15:20:53.662058Z",
     "shell.execute_reply.started": "2022-06-08T15:13:54.389770Z"
    },
    "tags": []
   },
   "outputs": [
    {
     "data": {
      "text/html": [
       "<div>\n",
       "<style scoped>\n",
       "    .dataframe tbody tr th:only-of-type {\n",
       "        vertical-align: middle;\n",
       "    }\n",
       "\n",
       "    .dataframe tbody tr th {\n",
       "        vertical-align: top;\n",
       "    }\n",
       "\n",
       "    .dataframe thead th {\n",
       "        text-align: right;\n",
       "    }\n",
       "</style>\n",
       "<table border=\"1\" class=\"dataframe\">\n",
       "  <thead>\n",
       "    <tr style=\"text-align: right;\">\n",
       "      <th></th>\n",
       "      <th></th>\n",
       "      <th>rating</th>\n",
       "    </tr>\n",
       "    <tr>\n",
       "      <th>userId</th>\n",
       "      <th>itemId</th>\n",
       "      <th></th>\n",
       "    </tr>\n",
       "  </thead>\n",
       "  <tbody>\n",
       "    <tr>\n",
       "      <th rowspan=\"5\" valign=\"top\">aaamsp</th>\n",
       "      <th>21282</th>\n",
       "      <td>[3]</td>\n",
       "    </tr>\n",
       "    <tr>\n",
       "      <th>60684</th>\n",
       "      <td>[3]</td>\n",
       "    </tr>\n",
       "    <tr>\n",
       "      <th>63085</th>\n",
       "      <td>[3]</td>\n",
       "    </tr>\n",
       "    <tr>\n",
       "      <th>189667</th>\n",
       "      <td>[4]</td>\n",
       "    </tr>\n",
       "    <tr>\n",
       "      <th>206228</th>\n",
       "      <td>[4]</td>\n",
       "    </tr>\n",
       "    <tr>\n",
       "      <th>...</th>\n",
       "      <th>...</th>\n",
       "      <td>...</td>\n",
       "    </tr>\n",
       "    <tr>\n",
       "      <th rowspan=\"5\" valign=\"top\">zzzvwq</th>\n",
       "      <th>934793</th>\n",
       "      <td>[3]</td>\n",
       "    </tr>\n",
       "    <tr>\n",
       "      <th>960786</th>\n",
       "      <td>[4]</td>\n",
       "    </tr>\n",
       "    <tr>\n",
       "      <th>960894</th>\n",
       "      <td>[4]</td>\n",
       "    </tr>\n",
       "    <tr>\n",
       "      <th>979260</th>\n",
       "      <td>[5]</td>\n",
       "    </tr>\n",
       "    <tr>\n",
       "      <th>981301</th>\n",
       "      <td>[4]</td>\n",
       "    </tr>\n",
       "  </tbody>\n",
       "</table>\n",
       "<p>8612107 rows × 1 columns</p>\n",
       "</div>"
      ],
      "text/plain": [
       "              rating\n",
       "userId itemId       \n",
       "aaamsp 21282     [3]\n",
       "       60684     [3]\n",
       "       63085     [3]\n",
       "       189667    [4]\n",
       "       206228    [4]\n",
       "...              ...\n",
       "zzzvwq 934793    [3]\n",
       "       960786    [4]\n",
       "       960894    [4]\n",
       "       979260    [5]\n",
       "       981301    [4]\n",
       "\n",
       "[8612107 rows x 1 columns]"
      ]
     },
     "execution_count": 7,
     "metadata": {},
     "output_type": "execute_result"
    }
   ],
   "source": [
    "a=pd.DataFrame(df.groupby(by=['userId','itemId']).rating.unique())\n",
    "a"
   ]
  },
  {
   "cell_type": "code",
   "execution_count": null,
   "id": "bb94d0a0-d145-4a7b-8840-a13b852f4928",
   "metadata": {},
   "outputs": [],
   "source": []
  }
 ],
 "metadata": {
  "kernelspec": {
   "display_name": "Python 3 (ipykernel)",
   "language": "python",
   "name": "python3"
  },
  "language_info": {
   "codemirror_mode": {
    "name": "ipython",
    "version": 3
   },
   "file_extension": ".py",
   "mimetype": "text/x-python",
   "name": "python",
   "nbconvert_exporter": "python",
   "pygments_lexer": "ipython3",
   "version": "3.10.4"
  }
 },
 "nbformat": 4,
 "nbformat_minor": 5
}
