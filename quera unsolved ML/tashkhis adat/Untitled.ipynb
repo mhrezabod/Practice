{
 "cells": [
  {
   "cell_type": "code",
   "execution_count": 44,
   "id": "1703b0b3",
   "metadata": {
    "execution": {
     "iopub.execute_input": "2022-06-05T17:03:58.599105Z",
     "iopub.status.busy": "2022-06-05T17:03:58.598037Z",
     "iopub.status.idle": "2022-06-05T17:03:58.603435Z",
     "shell.execute_reply": "2022-06-05T17:03:58.602499Z",
     "shell.execute_reply.started": "2022-06-05T17:03:58.599062Z"
    },
    "tags": []
   },
   "outputs": [],
   "source": [
    "import pandas as pd"
   ]
  },
  {
   "cell_type": "code",
   "execution_count": 45,
   "id": "c011a68e",
   "metadata": {
    "execution": {
     "iopub.execute_input": "2022-06-05T17:04:05.458347Z",
     "iopub.status.busy": "2022-06-05T17:04:05.457402Z",
     "iopub.status.idle": "2022-06-05T17:04:06.084930Z",
     "shell.execute_reply": "2022-06-05T17:04:06.084273Z",
     "shell.execute_reply.started": "2022-06-05T17:04:05.458302Z"
    },
    "tags": []
   },
   "outputs": [],
   "source": [
    "df = pd.read_csv('purchase_history.csv')"
   ]
  },
  {
   "cell_type": "code",
   "execution_count": 46,
   "id": "05c01fb0",
   "metadata": {
    "execution": {
     "iopub.execute_input": "2022-06-05T17:04:06.093859Z",
     "iopub.status.busy": "2022-06-05T17:04:06.093556Z",
     "iopub.status.idle": "2022-06-05T17:04:06.103802Z",
     "shell.execute_reply": "2022-06-05T17:04:06.102575Z",
     "shell.execute_reply.started": "2022-06-05T17:04:06.093836Z"
    },
    "tags": []
   },
   "outputs": [
    {
     "data": {
      "text/html": [
       "<div>\n",
       "<style scoped>\n",
       "    .dataframe tbody tr th:only-of-type {\n",
       "        vertical-align: middle;\n",
       "    }\n",
       "\n",
       "    .dataframe tbody tr th {\n",
       "        vertical-align: top;\n",
       "    }\n",
       "\n",
       "    .dataframe thead th {\n",
       "        text-align: right;\n",
       "    }\n",
       "</style>\n",
       "<table border=\"1\" class=\"dataframe\">\n",
       "  <thead>\n",
       "    <tr style=\"text-align: right;\">\n",
       "      <th></th>\n",
       "      <th>user_id</th>\n",
       "      <th>product_id</th>\n",
       "      <th>created_at</th>\n",
       "    </tr>\n",
       "  </thead>\n",
       "  <tbody>\n",
       "    <tr>\n",
       "      <th>0</th>\n",
       "      <td>647746</td>\n",
       "      <td>2011564</td>\n",
       "      <td>2019-02-09</td>\n",
       "    </tr>\n",
       "    <tr>\n",
       "      <th>1</th>\n",
       "      <td>906136</td>\n",
       "      <td>4105782</td>\n",
       "      <td>2019-11-23</td>\n",
       "    </tr>\n",
       "    <tr>\n",
       "      <th>2</th>\n",
       "      <td>12862997</td>\n",
       "      <td>2144063</td>\n",
       "      <td>2019-07-16</td>\n",
       "    </tr>\n",
       "    <tr>\n",
       "      <th>3</th>\n",
       "      <td>12097079</td>\n",
       "      <td>1207738</td>\n",
       "      <td>2019-04-05</td>\n",
       "    </tr>\n",
       "    <tr>\n",
       "      <th>4</th>\n",
       "      <td>3184486</td>\n",
       "      <td>4278839</td>\n",
       "      <td>2019-03-08</td>\n",
       "    </tr>\n",
       "    <tr>\n",
       "      <th>...</th>\n",
       "      <td>...</td>\n",
       "      <td>...</td>\n",
       "      <td>...</td>\n",
       "    </tr>\n",
       "    <tr>\n",
       "      <th>2174442</th>\n",
       "      <td>2602547</td>\n",
       "      <td>1624033</td>\n",
       "      <td>2019-09-22</td>\n",
       "    </tr>\n",
       "    <tr>\n",
       "      <th>2174443</th>\n",
       "      <td>14188320</td>\n",
       "      <td>924263</td>\n",
       "      <td>2019-07-15</td>\n",
       "    </tr>\n",
       "    <tr>\n",
       "      <th>2174444</th>\n",
       "      <td>6774415</td>\n",
       "      <td>871217</td>\n",
       "      <td>2019-07-30</td>\n",
       "    </tr>\n",
       "    <tr>\n",
       "      <th>2174445</th>\n",
       "      <td>12176860</td>\n",
       "      <td>1604228</td>\n",
       "      <td>2019-02-09</td>\n",
       "    </tr>\n",
       "    <tr>\n",
       "      <th>2174446</th>\n",
       "      <td>1456614</td>\n",
       "      <td>1688713</td>\n",
       "      <td>2019-11-13</td>\n",
       "    </tr>\n",
       "  </tbody>\n",
       "</table>\n",
       "<p>2174447 rows × 3 columns</p>\n",
       "</div>"
      ],
      "text/plain": [
       "          user_id  product_id  created_at\n",
       "0          647746     2011564  2019-02-09\n",
       "1          906136     4105782  2019-11-23\n",
       "2        12862997     2144063  2019-07-16\n",
       "3        12097079     1207738  2019-04-05\n",
       "4         3184486     4278839  2019-03-08\n",
       "...           ...         ...         ...\n",
       "2174442   2602547     1624033  2019-09-22\n",
       "2174443  14188320      924263  2019-07-15\n",
       "2174444   6774415      871217  2019-07-30\n",
       "2174445  12176860     1604228  2019-02-09\n",
       "2174446   1456614     1688713  2019-11-13\n",
       "\n",
       "[2174447 rows x 3 columns]"
      ]
     },
     "execution_count": 46,
     "metadata": {},
     "output_type": "execute_result"
    }
   ],
   "source": [
    "df"
   ]
  },
  {
   "cell_type": "code",
   "execution_count": 47,
   "id": "94ed7179-c0ea-44d0-a5ac-89bf889f0f67",
   "metadata": {
    "execution": {
     "iopub.execute_input": "2022-06-05T17:04:06.107580Z",
     "iopub.status.busy": "2022-06-05T17:04:06.105993Z",
     "iopub.status.idle": "2022-06-05T17:04:06.431302Z",
     "shell.execute_reply": "2022-06-05T17:04:06.430554Z",
     "shell.execute_reply.started": "2022-06-05T17:04:06.107515Z"
    },
    "tags": []
   },
   "outputs": [],
   "source": [
    "df[\"created_at\"] = pd.to_datetime(df.created_at)\n"
   ]
  },
  {
   "cell_type": "code",
   "execution_count": null,
   "id": "1a5051b9",
   "metadata": {
    "tags": []
   },
   "outputs": [],
   "source": [
    "df.groupby( by = df.product_id).count()"
   ]
  }
 ],
 "metadata": {
  "kernelspec": {
   "display_name": "Python 3 (ipykernel)",
   "language": "python",
   "name": "python3"
  },
  "language_info": {
   "codemirror_mode": {
    "name": "ipython",
    "version": 3
   },
   "file_extension": ".py",
   "mimetype": "text/x-python",
   "name": "python",
   "nbconvert_exporter": "python",
   "pygments_lexer": "ipython3",
   "version": "3.10.4"
  },
  "toc-autonumbering": true,
  "toc-showcode": true,
  "toc-showmarkdowntxt": false
 },
 "nbformat": 4,
 "nbformat_minor": 5
}
